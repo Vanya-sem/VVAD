{
 "cells": [
  {
   "cell_type": "markdown",
   "metadata": {
    "id": "bri_pAriNFqN"
   },
   "source": [
    "**Цель работы:**\n",
    "\n",
    "Осуществить предварительную обработку данных csv-файла, выявить и устранить проблемы в этих данных."
   ]
  },
  {
   "cell_type": "markdown",
   "metadata": {
    "id": "r_e-GeJmgZ8l"
   },
   "source": [
    "# Загрузка набора данных"
   ]
  },
  {
   "cell_type": "markdown",
   "metadata": {
    "id": "eeq9ZAbSguQS"
   },
   "source": [
    "### Описание предметной области"
   ]
  },
  {
   "cell_type": "markdown",
   "metadata": {
    "id": "XHbH8zNIg0Ib"
   },
   "source": [
    "Вариант №8\n",
    "\n",
    "Набор данных: credit_risk.csv\n",
    "\n",
    "Атрибуты: Id, Age, Income, Home, Emp_length, Intent, Amount, Rate, Status, Percent_income, Default, Cred_length"
   ]
  },
  {
   "cell_type": "markdown",
   "metadata": {
    "id": "Lwin9ia7hT1i"
   },
   "source": [
    "### 1.Чтение файла (набора данных)"
   ]
  },
  {
   "cell_type": "code",
   "execution_count": 20,
   "metadata": {
    "id": "a5dYQO5YhOYa"
   },
   "outputs": [
    {
     "name": "stdout",
     "output_type": "stream",
     "text": [
      "File is read\n"
     ]
    }
   ],
   "source": [
    "import pandas as pd\n",
    "from IPython.display import display\n",
    "df = pd.read_csv(\"C:\\\\Users\\\\vanya\\\\Downloads\\\\credit_risk.csv\")\n",
    "print(\"File is read\")"
   ]
  },
  {
   "cell_type": "markdown",
   "metadata": {
    "id": "p82p53SvhjLN"
   },
   "source": [
    "### 2. Обзор данных"
   ]
  },
  {
   "cell_type": "markdown",
   "metadata": {
    "id": "eAYzXaLrh-qh"
   },
   "source": [
    "2.1 Вывод первых 20 строк с помощью метода head."
   ]
  },
  {
   "cell_type": "code",
   "execution_count": 2,
   "metadata": {
    "id": "7yMo3VZ_hotx"
   },
   "outputs": [
    {
     "data": {
      "text/html": [
       "<div>\n",
       "<style scoped>\n",
       "    .dataframe tbody tr th:only-of-type {\n",
       "        vertical-align: middle;\n",
       "    }\n",
       "\n",
       "    .dataframe tbody tr th {\n",
       "        vertical-align: top;\n",
       "    }\n",
       "\n",
       "    .dataframe thead th {\n",
       "        text-align: right;\n",
       "    }\n",
       "</style>\n",
       "<table border=\"1\" class=\"dataframe\">\n",
       "  <thead>\n",
       "    <tr style=\"text-align: right;\">\n",
       "      <th></th>\n",
       "      <th>Id</th>\n",
       "      <th>Age</th>\n",
       "      <th>Income</th>\n",
       "      <th>Home</th>\n",
       "      <th>Emp_length</th>\n",
       "      <th>Intent</th>\n",
       "      <th>Amount</th>\n",
       "      <th>Rate</th>\n",
       "      <th>Status</th>\n",
       "      <th>Percent_income</th>\n",
       "      <th>Default</th>\n",
       "      <th>Cred_length</th>\n",
       "    </tr>\n",
       "  </thead>\n",
       "  <tbody>\n",
       "    <tr>\n",
       "      <th>0</th>\n",
       "      <td>0</td>\n",
       "      <td>22.0</td>\n",
       "      <td>59000</td>\n",
       "      <td>RENT</td>\n",
       "      <td>123.0</td>\n",
       "      <td>PERSONAL</td>\n",
       "      <td>35000</td>\n",
       "      <td>16.02</td>\n",
       "      <td>1</td>\n",
       "      <td>0.59</td>\n",
       "      <td>Y</td>\n",
       "      <td>3</td>\n",
       "    </tr>\n",
       "    <tr>\n",
       "      <th>1</th>\n",
       "      <td>1</td>\n",
       "      <td>21.0</td>\n",
       "      <td>9600</td>\n",
       "      <td>OWN</td>\n",
       "      <td>5.0</td>\n",
       "      <td>EDUCATION</td>\n",
       "      <td>1000</td>\n",
       "      <td>11.14</td>\n",
       "      <td>0</td>\n",
       "      <td>0.10</td>\n",
       "      <td>N</td>\n",
       "      <td>2</td>\n",
       "    </tr>\n",
       "    <tr>\n",
       "      <th>2</th>\n",
       "      <td>2</td>\n",
       "      <td>25.0</td>\n",
       "      <td>9600</td>\n",
       "      <td>MORTGAGE</td>\n",
       "      <td>1.0</td>\n",
       "      <td>MEDICAL</td>\n",
       "      <td>5500</td>\n",
       "      <td>12.87</td>\n",
       "      <td>1</td>\n",
       "      <td>0.57</td>\n",
       "      <td>N</td>\n",
       "      <td>3</td>\n",
       "    </tr>\n",
       "    <tr>\n",
       "      <th>3</th>\n",
       "      <td>3</td>\n",
       "      <td>23.0</td>\n",
       "      <td>65500</td>\n",
       "      <td>RENT</td>\n",
       "      <td>4.0</td>\n",
       "      <td>MEDICAL</td>\n",
       "      <td>35000</td>\n",
       "      <td>15.23</td>\n",
       "      <td>1</td>\n",
       "      <td>0.53</td>\n",
       "      <td>N</td>\n",
       "      <td>2</td>\n",
       "    </tr>\n",
       "    <tr>\n",
       "      <th>4</th>\n",
       "      <td>4</td>\n",
       "      <td>24.0</td>\n",
       "      <td>54400</td>\n",
       "      <td>RENT</td>\n",
       "      <td>8.0</td>\n",
       "      <td>MEDICAL</td>\n",
       "      <td>35000</td>\n",
       "      <td>14.27</td>\n",
       "      <td>1</td>\n",
       "      <td>0.55</td>\n",
       "      <td>Y</td>\n",
       "      <td>4</td>\n",
       "    </tr>\n",
       "    <tr>\n",
       "      <th>5</th>\n",
       "      <td>5</td>\n",
       "      <td>21.0</td>\n",
       "      <td>9900</td>\n",
       "      <td>OWN</td>\n",
       "      <td>2.0</td>\n",
       "      <td>VENTURE</td>\n",
       "      <td>2500</td>\n",
       "      <td>7.14</td>\n",
       "      <td>1</td>\n",
       "      <td>0.25</td>\n",
       "      <td>N</td>\n",
       "      <td>2</td>\n",
       "    </tr>\n",
       "    <tr>\n",
       "      <th>6</th>\n",
       "      <td>6</td>\n",
       "      <td>26.0</td>\n",
       "      <td>77100</td>\n",
       "      <td>RENT</td>\n",
       "      <td>8.0</td>\n",
       "      <td>EDUCATION</td>\n",
       "      <td>35000</td>\n",
       "      <td>12.42</td>\n",
       "      <td>1</td>\n",
       "      <td>0.45</td>\n",
       "      <td>N</td>\n",
       "      <td>3</td>\n",
       "    </tr>\n",
       "    <tr>\n",
       "      <th>7</th>\n",
       "      <td>7</td>\n",
       "      <td>24.0</td>\n",
       "      <td>78956</td>\n",
       "      <td>RENT</td>\n",
       "      <td>5.0</td>\n",
       "      <td>MEDICAL</td>\n",
       "      <td>35000</td>\n",
       "      <td>11.11</td>\n",
       "      <td>1</td>\n",
       "      <td>0.44</td>\n",
       "      <td>N</td>\n",
       "      <td>4</td>\n",
       "    </tr>\n",
       "    <tr>\n",
       "      <th>8</th>\n",
       "      <td>8</td>\n",
       "      <td>24.0</td>\n",
       "      <td>83000</td>\n",
       "      <td>RENT</td>\n",
       "      <td>8.0</td>\n",
       "      <td>PERSONAL</td>\n",
       "      <td>35000</td>\n",
       "      <td>8.90</td>\n",
       "      <td>1</td>\n",
       "      <td>0.42</td>\n",
       "      <td>N</td>\n",
       "      <td>2</td>\n",
       "    </tr>\n",
       "    <tr>\n",
       "      <th>9</th>\n",
       "      <td>9</td>\n",
       "      <td>21.0</td>\n",
       "      <td>10000</td>\n",
       "      <td>OWN</td>\n",
       "      <td>6.0</td>\n",
       "      <td>VENTURE</td>\n",
       "      <td>1600</td>\n",
       "      <td>14.74</td>\n",
       "      <td>1</td>\n",
       "      <td>0.16</td>\n",
       "      <td>N</td>\n",
       "      <td>3</td>\n",
       "    </tr>\n",
       "    <tr>\n",
       "      <th>10</th>\n",
       "      <td>10</td>\n",
       "      <td>22.0</td>\n",
       "      <td>85000</td>\n",
       "      <td>RENT</td>\n",
       "      <td>6.0</td>\n",
       "      <td>VENTURE</td>\n",
       "      <td>35000</td>\n",
       "      <td>10.37</td>\n",
       "      <td>1</td>\n",
       "      <td>0.41</td>\n",
       "      <td>N</td>\n",
       "      <td>4</td>\n",
       "    </tr>\n",
       "    <tr>\n",
       "      <th>11</th>\n",
       "      <td>11</td>\n",
       "      <td>21.0</td>\n",
       "      <td>10000</td>\n",
       "      <td>OWN</td>\n",
       "      <td>2.0</td>\n",
       "      <td>HOMEIMPROVEMENT</td>\n",
       "      <td>4500</td>\n",
       "      <td>8.63</td>\n",
       "      <td>1</td>\n",
       "      <td>0.45</td>\n",
       "      <td>N</td>\n",
       "      <td>2</td>\n",
       "    </tr>\n",
       "    <tr>\n",
       "      <th>12</th>\n",
       "      <td>12</td>\n",
       "      <td>23.0</td>\n",
       "      <td>95000</td>\n",
       "      <td>RENT</td>\n",
       "      <td>2.0</td>\n",
       "      <td>VENTURE</td>\n",
       "      <td>35000</td>\n",
       "      <td>7.90</td>\n",
       "      <td>1</td>\n",
       "      <td>0.37</td>\n",
       "      <td>N</td>\n",
       "      <td>2</td>\n",
       "    </tr>\n",
       "    <tr>\n",
       "      <th>13</th>\n",
       "      <td>13</td>\n",
       "      <td>26.0</td>\n",
       "      <td>108160</td>\n",
       "      <td>RENT</td>\n",
       "      <td>4.0</td>\n",
       "      <td>EDUCATION</td>\n",
       "      <td>35000</td>\n",
       "      <td>18.39</td>\n",
       "      <td>1</td>\n",
       "      <td>0.32</td>\n",
       "      <td>N</td>\n",
       "      <td>4</td>\n",
       "    </tr>\n",
       "    <tr>\n",
       "      <th>14</th>\n",
       "      <td>14</td>\n",
       "      <td>23.0</td>\n",
       "      <td>115000</td>\n",
       "      <td>RENT</td>\n",
       "      <td>2.0</td>\n",
       "      <td>EDUCATION</td>\n",
       "      <td>35000</td>\n",
       "      <td>7.90</td>\n",
       "      <td>0</td>\n",
       "      <td>0.30</td>\n",
       "      <td>N</td>\n",
       "      <td>4</td>\n",
       "    </tr>\n",
       "    <tr>\n",
       "      <th>15</th>\n",
       "      <td>15</td>\n",
       "      <td>23.0</td>\n",
       "      <td>500000</td>\n",
       "      <td>MORTGAGE</td>\n",
       "      <td>7.0</td>\n",
       "      <td>DEBTCONSOLIDATION</td>\n",
       "      <td>30000</td>\n",
       "      <td>10.65</td>\n",
       "      <td>0</td>\n",
       "      <td>0.06</td>\n",
       "      <td>N</td>\n",
       "      <td>3</td>\n",
       "    </tr>\n",
       "    <tr>\n",
       "      <th>16</th>\n",
       "      <td>16</td>\n",
       "      <td>23.0</td>\n",
       "      <td>120000</td>\n",
       "      <td>RENT</td>\n",
       "      <td>0.0</td>\n",
       "      <td>EDUCATION</td>\n",
       "      <td>35000</td>\n",
       "      <td>7.90</td>\n",
       "      <td>0</td>\n",
       "      <td>0.29</td>\n",
       "      <td>N</td>\n",
       "      <td>4</td>\n",
       "    </tr>\n",
       "    <tr>\n",
       "      <th>17</th>\n",
       "      <td>17</td>\n",
       "      <td>23.0</td>\n",
       "      <td>92111</td>\n",
       "      <td>RENT</td>\n",
       "      <td>7.0</td>\n",
       "      <td>MEDICAL</td>\n",
       "      <td>35000</td>\n",
       "      <td>20.25</td>\n",
       "      <td>1</td>\n",
       "      <td>0.32</td>\n",
       "      <td>N</td>\n",
       "      <td>4</td>\n",
       "    </tr>\n",
       "    <tr>\n",
       "      <th>18</th>\n",
       "      <td>18</td>\n",
       "      <td>23.0</td>\n",
       "      <td>113000</td>\n",
       "      <td>RENT</td>\n",
       "      <td>8.0</td>\n",
       "      <td>DEBTCONSOLIDATION</td>\n",
       "      <td>35000</td>\n",
       "      <td>18.25</td>\n",
       "      <td>1</td>\n",
       "      <td>0.31</td>\n",
       "      <td>N</td>\n",
       "      <td>4</td>\n",
       "    </tr>\n",
       "    <tr>\n",
       "      <th>19</th>\n",
       "      <td>19</td>\n",
       "      <td>24.0</td>\n",
       "      <td>10800</td>\n",
       "      <td>MORTGAGE</td>\n",
       "      <td>8.0</td>\n",
       "      <td>EDUCATION</td>\n",
       "      <td>1750</td>\n",
       "      <td>10.99</td>\n",
       "      <td>1</td>\n",
       "      <td>0.16</td>\n",
       "      <td>N</td>\n",
       "      <td>2</td>\n",
       "    </tr>\n",
       "  </tbody>\n",
       "</table>\n",
       "</div>"
      ],
      "text/plain": [
       "    Id   Age  Income      Home  Emp_length             Intent  Amount   Rate  \\\n",
       "0    0  22.0   59000      RENT       123.0           PERSONAL   35000  16.02   \n",
       "1    1  21.0    9600       OWN         5.0          EDUCATION    1000  11.14   \n",
       "2    2  25.0    9600  MORTGAGE         1.0            MEDICAL    5500  12.87   \n",
       "3    3  23.0   65500      RENT         4.0            MEDICAL   35000  15.23   \n",
       "4    4  24.0   54400      RENT         8.0            MEDICAL   35000  14.27   \n",
       "5    5  21.0    9900       OWN         2.0            VENTURE    2500   7.14   \n",
       "6    6  26.0   77100      RENT         8.0          EDUCATION   35000  12.42   \n",
       "7    7  24.0   78956      RENT         5.0            MEDICAL   35000  11.11   \n",
       "8    8  24.0   83000      RENT         8.0           PERSONAL   35000   8.90   \n",
       "9    9  21.0   10000       OWN         6.0            VENTURE    1600  14.74   \n",
       "10  10  22.0   85000      RENT         6.0            VENTURE   35000  10.37   \n",
       "11  11  21.0   10000       OWN         2.0    HOMEIMPROVEMENT    4500   8.63   \n",
       "12  12  23.0   95000      RENT         2.0            VENTURE   35000   7.90   \n",
       "13  13  26.0  108160      RENT         4.0          EDUCATION   35000  18.39   \n",
       "14  14  23.0  115000      RENT         2.0          EDUCATION   35000   7.90   \n",
       "15  15  23.0  500000  MORTGAGE         7.0  DEBTCONSOLIDATION   30000  10.65   \n",
       "16  16  23.0  120000      RENT         0.0          EDUCATION   35000   7.90   \n",
       "17  17  23.0   92111      RENT         7.0            MEDICAL   35000  20.25   \n",
       "18  18  23.0  113000      RENT         8.0  DEBTCONSOLIDATION   35000  18.25   \n",
       "19  19  24.0   10800  MORTGAGE         8.0          EDUCATION    1750  10.99   \n",
       "\n",
       "    Status  Percent_income Default  Cred_length  \n",
       "0        1            0.59       Y            3  \n",
       "1        0            0.10       N            2  \n",
       "2        1            0.57       N            3  \n",
       "3        1            0.53       N            2  \n",
       "4        1            0.55       Y            4  \n",
       "5        1            0.25       N            2  \n",
       "6        1            0.45       N            3  \n",
       "7        1            0.44       N            4  \n",
       "8        1            0.42       N            2  \n",
       "9        1            0.16       N            3  \n",
       "10       1            0.41       N            4  \n",
       "11       1            0.45       N            2  \n",
       "12       1            0.37       N            2  \n",
       "13       1            0.32       N            4  \n",
       "14       0            0.30       N            4  \n",
       "15       0            0.06       N            3  \n",
       "16       0            0.29       N            4  \n",
       "17       1            0.32       N            4  \n",
       "18       1            0.31       N            4  \n",
       "19       1            0.16       N            2  "
      ]
     },
     "execution_count": 2,
     "metadata": {},
     "output_type": "execute_result"
    }
   ],
   "source": [
    "df.head(20)"
   ]
  },
  {
   "cell_type": "markdown",
   "metadata": {
    "id": "Ze-lXxLMhpWv"
   },
   "source": [
    "2.2 Оценка данных с помощью метода info."
   ]
  },
  {
   "cell_type": "code",
   "execution_count": 3,
   "metadata": {
    "id": "bjhngmaLiGM-"
   },
   "outputs": [
    {
     "name": "stdout",
     "output_type": "stream",
     "text": [
      "<class 'pandas.core.frame.DataFrame'>\n",
      "RangeIndex: 652 entries, 0 to 651\n",
      "Data columns (total 12 columns):\n",
      " #   Column          Non-Null Count  Dtype  \n",
      "---  ------          --------------  -----  \n",
      " 0   Id              652 non-null    int64  \n",
      " 1   Age             652 non-null    float64\n",
      " 2   Income          652 non-null    int64  \n",
      " 3   Home            652 non-null    object \n",
      " 4   Emp_length      643 non-null    float64\n",
      " 5   Intent          652 non-null    object \n",
      " 6   Amount          652 non-null    int64  \n",
      " 7   Rate            586 non-null    float64\n",
      " 8   Status          652 non-null    int64  \n",
      " 9   Percent_income  652 non-null    float64\n",
      " 10  Default         652 non-null    object \n",
      " 11  Cred_length     652 non-null    int64  \n",
      "dtypes: float64(4), int64(5), object(3)\n",
      "memory usage: 61.2+ KB\n"
     ]
    }
   ],
   "source": [
    "# выполнит метод info\n",
    "df.info()"
   ]
  },
  {
   "cell_type": "markdown",
   "metadata": {
    "id": "06PDq9DAiMAY"
   },
   "source": [
    "2.3 Оценка данных с помощью метода describe."
   ]
  },
  {
   "cell_type": "code",
   "execution_count": 4,
   "metadata": {
    "id": "cTVFwzO1jQfN"
   },
   "outputs": [
    {
     "data": {
      "text/html": [
       "<div>\n",
       "<style scoped>\n",
       "    .dataframe tbody tr th:only-of-type {\n",
       "        vertical-align: middle;\n",
       "    }\n",
       "\n",
       "    .dataframe tbody tr th {\n",
       "        vertical-align: top;\n",
       "    }\n",
       "\n",
       "    .dataframe thead th {\n",
       "        text-align: right;\n",
       "    }\n",
       "</style>\n",
       "<table border=\"1\" class=\"dataframe\">\n",
       "  <thead>\n",
       "    <tr style=\"text-align: right;\">\n",
       "      <th></th>\n",
       "      <th>Id</th>\n",
       "      <th>Age</th>\n",
       "      <th>Income</th>\n",
       "      <th>Home</th>\n",
       "      <th>Emp_length</th>\n",
       "      <th>Intent</th>\n",
       "      <th>Amount</th>\n",
       "      <th>Rate</th>\n",
       "      <th>Status</th>\n",
       "      <th>Percent_income</th>\n",
       "      <th>Default</th>\n",
       "      <th>Cred_length</th>\n",
       "    </tr>\n",
       "  </thead>\n",
       "  <tbody>\n",
       "    <tr>\n",
       "      <th>count</th>\n",
       "      <td>652.000000</td>\n",
       "      <td>652.000000</td>\n",
       "      <td>652.000000</td>\n",
       "      <td>652</td>\n",
       "      <td>643.000000</td>\n",
       "      <td>652</td>\n",
       "      <td>652.000000</td>\n",
       "      <td>586.000000</td>\n",
       "      <td>652.000000</td>\n",
       "      <td>652.000000</td>\n",
       "      <td>652</td>\n",
       "      <td>652.000000</td>\n",
       "    </tr>\n",
       "    <tr>\n",
       "      <th>unique</th>\n",
       "      <td>NaN</td>\n",
       "      <td>NaN</td>\n",
       "      <td>NaN</td>\n",
       "      <td>5</td>\n",
       "      <td>NaN</td>\n",
       "      <td>6</td>\n",
       "      <td>NaN</td>\n",
       "      <td>NaN</td>\n",
       "      <td>NaN</td>\n",
       "      <td>NaN</td>\n",
       "      <td>3</td>\n",
       "      <td>NaN</td>\n",
       "    </tr>\n",
       "    <tr>\n",
       "      <th>top</th>\n",
       "      <td>NaN</td>\n",
       "      <td>NaN</td>\n",
       "      <td>NaN</td>\n",
       "      <td>RENT</td>\n",
       "      <td>NaN</td>\n",
       "      <td>EDUCATION</td>\n",
       "      <td>NaN</td>\n",
       "      <td>NaN</td>\n",
       "      <td>NaN</td>\n",
       "      <td>NaN</td>\n",
       "      <td>N</td>\n",
       "      <td>NaN</td>\n",
       "    </tr>\n",
       "    <tr>\n",
       "      <th>freq</th>\n",
       "      <td>NaN</td>\n",
       "      <td>NaN</td>\n",
       "      <td>NaN</td>\n",
       "      <td>415</td>\n",
       "      <td>NaN</td>\n",
       "      <td>145</td>\n",
       "      <td>NaN</td>\n",
       "      <td>NaN</td>\n",
       "      <td>NaN</td>\n",
       "      <td>NaN</td>\n",
       "      <td>499</td>\n",
       "      <td>NaN</td>\n",
       "    </tr>\n",
       "    <tr>\n",
       "      <th>mean</th>\n",
       "      <td>325.495399</td>\n",
       "      <td>24.285276</td>\n",
       "      <td>90008.855828</td>\n",
       "      <td>NaN</td>\n",
       "      <td>4.601866</td>\n",
       "      <td>NaN</td>\n",
       "      <td>18800.996933</td>\n",
       "      <td>12.289471</td>\n",
       "      <td>0.601227</td>\n",
       "      <td>0.279831</td>\n",
       "      <td>NaN</td>\n",
       "      <td>3.012270</td>\n",
       "    </tr>\n",
       "    <tr>\n",
       "      <th>std</th>\n",
       "      <td>188.352535</td>\n",
       "      <td>7.841061</td>\n",
       "      <td>69530.312525</td>\n",
       "      <td>NaN</td>\n",
       "      <td>7.281616</td>\n",
       "      <td>NaN</td>\n",
       "      <td>9152.896250</td>\n",
       "      <td>3.272772</td>\n",
       "      <td>0.490022</td>\n",
       "      <td>0.150231</td>\n",
       "      <td>NaN</td>\n",
       "      <td>0.808843</td>\n",
       "    </tr>\n",
       "    <tr>\n",
       "      <th>min</th>\n",
       "      <td>0.000000</td>\n",
       "      <td>21.000000</td>\n",
       "      <td>9600.000000</td>\n",
       "      <td>NaN</td>\n",
       "      <td>0.000000</td>\n",
       "      <td>NaN</td>\n",
       "      <td>1000.000000</td>\n",
       "      <td>5.420000</td>\n",
       "      <td>0.000000</td>\n",
       "      <td>0.010000</td>\n",
       "      <td>NaN</td>\n",
       "      <td>2.000000</td>\n",
       "    </tr>\n",
       "    <tr>\n",
       "      <th>25%</th>\n",
       "      <td>162.750000</td>\n",
       "      <td>23.000000</td>\n",
       "      <td>44000.000000</td>\n",
       "      <td>NaN</td>\n",
       "      <td>2.000000</td>\n",
       "      <td>NaN</td>\n",
       "      <td>10000.000000</td>\n",
       "      <td>10.250000</td>\n",
       "      <td>0.000000</td>\n",
       "      <td>0.160000</td>\n",
       "      <td>NaN</td>\n",
       "      <td>2.000000</td>\n",
       "    </tr>\n",
       "    <tr>\n",
       "      <th>50%</th>\n",
       "      <td>325.500000</td>\n",
       "      <td>24.000000</td>\n",
       "      <td>69998.000000</td>\n",
       "      <td>NaN</td>\n",
       "      <td>4.000000</td>\n",
       "      <td>NaN</td>\n",
       "      <td>21850.000000</td>\n",
       "      <td>12.180000</td>\n",
       "      <td>1.000000</td>\n",
       "      <td>0.280000</td>\n",
       "      <td>NaN</td>\n",
       "      <td>3.000000</td>\n",
       "    </tr>\n",
       "    <tr>\n",
       "      <th>75%</th>\n",
       "      <td>488.250000</td>\n",
       "      <td>25.000000</td>\n",
       "      <td>128499.000000</td>\n",
       "      <td>NaN</td>\n",
       "      <td>7.000000</td>\n",
       "      <td>NaN</td>\n",
       "      <td>25000.000000</td>\n",
       "      <td>14.720000</td>\n",
       "      <td>1.000000</td>\n",
       "      <td>0.380000</td>\n",
       "      <td>NaN</td>\n",
       "      <td>4.000000</td>\n",
       "    </tr>\n",
       "    <tr>\n",
       "      <th>max</th>\n",
       "      <td>649.000000</td>\n",
       "      <td>144.000000</td>\n",
       "      <td>500000.000000</td>\n",
       "      <td>NaN</td>\n",
       "      <td>123.000000</td>\n",
       "      <td>NaN</td>\n",
       "      <td>35000.000000</td>\n",
       "      <td>21.210000</td>\n",
       "      <td>1.000000</td>\n",
       "      <td>0.830000</td>\n",
       "      <td>NaN</td>\n",
       "      <td>4.000000</td>\n",
       "    </tr>\n",
       "  </tbody>\n",
       "</table>\n",
       "</div>"
      ],
      "text/plain": [
       "                Id         Age         Income  Home  Emp_length     Intent  \\\n",
       "count   652.000000  652.000000     652.000000   652  643.000000        652   \n",
       "unique         NaN         NaN            NaN     5         NaN          6   \n",
       "top            NaN         NaN            NaN  RENT         NaN  EDUCATION   \n",
       "freq           NaN         NaN            NaN   415         NaN        145   \n",
       "mean    325.495399   24.285276   90008.855828   NaN    4.601866        NaN   \n",
       "std     188.352535    7.841061   69530.312525   NaN    7.281616        NaN   \n",
       "min       0.000000   21.000000    9600.000000   NaN    0.000000        NaN   \n",
       "25%     162.750000   23.000000   44000.000000   NaN    2.000000        NaN   \n",
       "50%     325.500000   24.000000   69998.000000   NaN    4.000000        NaN   \n",
       "75%     488.250000   25.000000  128499.000000   NaN    7.000000        NaN   \n",
       "max     649.000000  144.000000  500000.000000   NaN  123.000000        NaN   \n",
       "\n",
       "              Amount        Rate      Status  Percent_income Default  \\\n",
       "count     652.000000  586.000000  652.000000      652.000000     652   \n",
       "unique           NaN         NaN         NaN             NaN       3   \n",
       "top              NaN         NaN         NaN             NaN       N   \n",
       "freq             NaN         NaN         NaN             NaN     499   \n",
       "mean    18800.996933   12.289471    0.601227        0.279831     NaN   \n",
       "std      9152.896250    3.272772    0.490022        0.150231     NaN   \n",
       "min      1000.000000    5.420000    0.000000        0.010000     NaN   \n",
       "25%     10000.000000   10.250000    0.000000        0.160000     NaN   \n",
       "50%     21850.000000   12.180000    1.000000        0.280000     NaN   \n",
       "75%     25000.000000   14.720000    1.000000        0.380000     NaN   \n",
       "max     35000.000000   21.210000    1.000000        0.830000     NaN   \n",
       "\n",
       "        Cred_length  \n",
       "count    652.000000  \n",
       "unique          NaN  \n",
       "top             NaN  \n",
       "freq            NaN  \n",
       "mean       3.012270  \n",
       "std        0.808843  \n",
       "min        2.000000  \n",
       "25%        2.000000  \n",
       "50%        3.000000  \n",
       "75%        4.000000  \n",
       "max        4.000000  "
      ]
     },
     "execution_count": 4,
     "metadata": {},
     "output_type": "execute_result"
    }
   ],
   "source": [
    "# оцените числовые столбцы с помощью describe\n",
    "df.describe(include='all')"
   ]
  },
  {
   "cell_type": "markdown",
   "metadata": {
    "id": "oOZUrZGuiGqc"
   },
   "source": [
    "\n",
    "---\n",
    "\n",
    "**Сделать выводы. Вы должны понимать, что означает тот или иной столбец, чтобы\n",
    " ответить на вопросы на защите.**\n",
    "\n",
    "\n",
    " ---\n"
   ]
  },
  {
   "cell_type": "markdown",
   "metadata": {
    "id": "JTbo0IGDiHxn"
   },
   "source": [
    " 2.4 Оценка названий столбцов"
   ]
  },
  {
   "cell_type": "code",
   "execution_count": 5,
   "metadata": {
    "id": "9NEyi2Odik3e"
   },
   "outputs": [
    {
     "data": {
      "text/plain": [
       "['Id',\n",
       " 'Age',\n",
       " 'Income',\n",
       " 'Home',\n",
       " 'Emp_length',\n",
       " 'Intent',\n",
       " 'Amount',\n",
       " 'Rate',\n",
       " 'Status',\n",
       " 'Percent_income',\n",
       " 'Default',\n",
       " 'Cred_length']"
      ]
     },
     "execution_count": 5,
     "metadata": {},
     "output_type": "execute_result"
    }
   ],
   "source": [
    "# Вывести на экран названия столбцов с помощью df.columns. Выявить проблемы с названиями, если они есть. При необходимости переименовать столбцы. Если проблемы не обнаружены также дать пояснения.\n",
    "df.columns.to_list()"
   ]
  },
  {
   "cell_type": "code",
   "execution_count": 30,
   "metadata": {
    "id": "QSJBLl4qjjP8"
   },
   "outputs": [
    {
     "data": {
      "text/plain": [
       "['Id',\n",
       " 'Age',\n",
       " 'Income',\n",
       " 'Home_status',\n",
       " 'Emp_length',\n",
       " 'Intent',\n",
       " 'Amount',\n",
       " 'Rate',\n",
       " 'Status',\n",
       " 'Percent_income',\n",
       " 'Default',\n",
       " 'Cred_length']"
      ]
     },
     "metadata": {},
     "output_type": "display_data"
    }
   ],
   "source": [
    "# переименование при необходимости\n",
    "df = df.rename(columns={'Home': 'Home_status'})\n",
    "display(df.columns.to_list())"
   ]
  },
  {
   "cell_type": "markdown",
   "metadata": {
    "id": "V0tLQcyrjnA_"
   },
   "source": [
    "### 3. Проверка пропусков"
   ]
  },
  {
   "cell_type": "code",
   "execution_count": 21,
   "metadata": {
    "id": "xuTz-Avjj9AW"
   },
   "outputs": [
    {
     "data": {
      "text/plain": [
       "Id                0\n",
       "Age               0\n",
       "Income            0\n",
       "Home              0\n",
       "Emp_length        0\n",
       "Intent            0\n",
       "Amount            0\n",
       "Rate              0\n",
       "Status            0\n",
       "Percent_income    0\n",
       "Default           0\n",
       "Cred_length       0\n",
       "dtype: int64"
      ]
     },
     "metadata": {},
     "output_type": "display_data"
    }
   ],
   "source": [
    "# Проверить данные на наличие пропусков и устранить их, если они есть (пропуски необходимо либо удалить, либо заменить каким-то значением).\n",
    "res_dict = {}\n",
    "for i, value in df.isna().sum().items():\n",
    "    if value != 0:\n",
    "        res_dict[i] = None\n",
    "for i in res_dict:\n",
    "    if df[i].dtypes == 'float64':\n",
    "        res_dict[i] = df[i].median()\n",
    "    elif df[i].dtypes == 'int64':\n",
    "        res_dict[i] = int(df[i].median())\n",
    "    elif df[i].dtypes == 'object':\n",
    "        res_dict[i] = df[i].moda(0)\n",
    "df.fillna(res_dict, inplace=True)\n",
    "\n",
    "display(df.isna().sum())\n",
    "        "
   ]
  },
  {
   "cell_type": "markdown",
   "metadata": {
    "id": "efZ7vgSVkPQH"
   },
   "source": [
    "\n",
    "---\n",
    "\n",
    "**Вы должны аргументировать на защите, почему были выполнены те или иные действия с пропусками, а также знать другие способы работы с пропусками, чтобы\n",
    " ответить на вопросы на защите.**\n",
    "\n",
    "\n",
    " ---"
   ]
  },
  {
   "cell_type": "markdown",
   "metadata": {
    "id": "kkyrXXHikEXk"
   },
   "source": [
    "### 4. Проверка дубликатов"
   ]
  },
  {
   "cell_type": "markdown",
   "metadata": {
    "id": "ImqHvr3okIQ6"
   },
   "source": [
    "#### Проверка явных дубликатов"
   ]
  },
  {
   "cell_type": "code",
   "execution_count": 23,
   "metadata": {
    "id": "qu1oh-e5lDZ1"
   },
   "outputs": [
    {
     "name": "stdout",
     "output_type": "stream",
     "text": [
      "2\n",
      "650 True\n",
      "651 True\n"
     ]
    }
   ],
   "source": [
    "print(df.duplicated().sum())\n",
    "for i, value in df.duplicated().items():\n",
    "    print(i, value) if value else None"
   ]
  },
  {
   "cell_type": "code",
   "execution_count": 9,
   "metadata": {
    "id": "ntArgvChkK26"
   },
   "outputs": [
    {
     "name": "stdout",
     "output_type": "stream",
     "text": [
      "0\n"
     ]
    }
   ],
   "source": [
    "# удалите дубликаты, если они есть\n",
    "df.drop_duplicates(inplace=True)\n",
    "print(df.duplicated().sum())"
   ]
  },
  {
   "cell_type": "markdown",
   "metadata": {
    "id": "VeHTMcOmkLSw"
   },
   "source": [
    "#### Проверка неявных дубликатов"
   ]
  },
  {
   "cell_type": "code",
   "execution_count": 10,
   "metadata": {
    "id": "-uOPKHlVlGo8"
   },
   "outputs": [
    {
     "name": "stdout",
     "output_type": "stream",
     "text": [
      "Home_status\n",
      "\tRENT\n",
      "\tOWN\n",
      "\tMORTGAGE\n",
      "\tRENET\n",
      "\tOTHER\n",
      "Intent\n",
      "\tPERSONAL\n",
      "\tEDUCATION\n",
      "\tMEDICAL\n",
      "\tVENTURE\n",
      "\tHOMEIMPROVEMENT\n",
      "\tDEBTCONSOLIDATION\n",
      "Default\n",
      "\tY\n",
      "\tN\n",
      "\tNo\n"
     ]
    }
   ],
   "source": [
    "colomns = ['Home_status', 'Intent', 'Default']\n",
    "for colomn in colomns:\n",
    "    print(colomn)\n",
    "    for i in df[colomn].unique():\n",
    "        print(f\"\\t{i}\")\n"
   ]
  },
  {
   "cell_type": "code",
   "execution_count": 11,
   "metadata": {
    "id": "89tMFEQ2k_M7"
   },
   "outputs": [
    {
     "name": "stdout",
     "output_type": "stream",
     "text": [
      "Home_status\n",
      "\tRENT\n",
      "\tOWN\n",
      "\tMORTGAGE\n",
      "\tOTHER\n",
      "Intent\n",
      "\tPERSONAL\n",
      "\tEDUCATION\n",
      "\tMEDICAL\n",
      "\tVENTURE\n",
      "\tHOMEIMPROVEMENT\n",
      "\tDEBTCONSOLIDATION\n",
      "Default\n",
      "\tY\n",
      "\tN\n"
     ]
    }
   ],
   "source": [
    "# удалите дубликаты, если они есть\n",
    "df.replace({'Home_status': {'RENET': 'RENT'}}, inplace=True)\n",
    "df.replace({'Default': {'No': 'N'}}, inplace=True)\n",
    "\n",
    "colomns = ['Home_status', 'Intent', 'Default']\n",
    "for colomn in colomns:\n",
    "    print(colomn)\n",
    "    for i in df[colomn].unique():\n",
    "        print(f\"\\t{i}\")"
   ]
  },
  {
   "cell_type": "markdown",
   "metadata": {
    "id": "GMcnDpOmlKhU"
   },
   "source": [
    "---\n",
    "\n",
    "**Вы должны аргументировать на защите, почему были выполнены те или иные действия с дубликатами, знать, что такое явные и неявные дубликаты и способы работы с ними, чтобы ответить на вопросы на защите.**\n",
    "\n",
    "\n",
    " ---"
   ]
  },
  {
   "cell_type": "markdown",
   "metadata": {
    "id": "md9GhfYMlbi7"
   },
   "source": [
    "### 5. Провека типов данных"
   ]
  },
  {
   "cell_type": "code",
   "execution_count": 24,
   "metadata": {
    "id": "lXTroENaluCW"
   },
   "outputs": [
    {
     "data": {
      "text/html": [
       "<div>\n",
       "<style scoped>\n",
       "    .dataframe tbody tr th:only-of-type {\n",
       "        vertical-align: middle;\n",
       "    }\n",
       "\n",
       "    .dataframe tbody tr th {\n",
       "        vertical-align: top;\n",
       "    }\n",
       "\n",
       "    .dataframe thead th {\n",
       "        text-align: right;\n",
       "    }\n",
       "</style>\n",
       "<table border=\"1\" class=\"dataframe\">\n",
       "  <thead>\n",
       "    <tr style=\"text-align: right;\">\n",
       "      <th></th>\n",
       "      <th>Id</th>\n",
       "      <th>Age</th>\n",
       "      <th>Income</th>\n",
       "      <th>Home</th>\n",
       "      <th>Emp_length</th>\n",
       "      <th>Intent</th>\n",
       "      <th>Amount</th>\n",
       "      <th>Rate</th>\n",
       "      <th>Status</th>\n",
       "      <th>Percent_income</th>\n",
       "      <th>Default</th>\n",
       "      <th>Cred_length</th>\n",
       "    </tr>\n",
       "  </thead>\n",
       "  <tbody>\n",
       "    <tr>\n",
       "      <th>0</th>\n",
       "      <td>0</td>\n",
       "      <td>22.0</td>\n",
       "      <td>59000</td>\n",
       "      <td>RENT</td>\n",
       "      <td>123.0</td>\n",
       "      <td>PERSONAL</td>\n",
       "      <td>35000</td>\n",
       "      <td>16.02</td>\n",
       "      <td>1</td>\n",
       "      <td>0.59</td>\n",
       "      <td>Y</td>\n",
       "      <td>3</td>\n",
       "    </tr>\n",
       "    <tr>\n",
       "      <th>1</th>\n",
       "      <td>1</td>\n",
       "      <td>21.0</td>\n",
       "      <td>9600</td>\n",
       "      <td>OWN</td>\n",
       "      <td>5.0</td>\n",
       "      <td>EDUCATION</td>\n",
       "      <td>1000</td>\n",
       "      <td>11.14</td>\n",
       "      <td>0</td>\n",
       "      <td>0.10</td>\n",
       "      <td>N</td>\n",
       "      <td>2</td>\n",
       "    </tr>\n",
       "  </tbody>\n",
       "</table>\n",
       "</div>"
      ],
      "text/plain": [
       "   Id   Age  Income  Home  Emp_length     Intent  Amount   Rate  Status  \\\n",
       "0   0  22.0   59000  RENT       123.0   PERSONAL   35000  16.02       1   \n",
       "1   1  21.0    9600   OWN         5.0  EDUCATION    1000  11.14       0   \n",
       "\n",
       "   Percent_income Default  Cred_length  \n",
       "0            0.59       Y            3  \n",
       "1            0.10       N            2  "
      ]
     },
     "metadata": {},
     "output_type": "display_data"
    },
    {
     "data": {
      "text/plain": [
       "Id                  int64\n",
       "Age               float64\n",
       "Income              int64\n",
       "Home               object\n",
       "Emp_length        float64\n",
       "Intent             object\n",
       "Amount              int64\n",
       "Rate              float64\n",
       "Status              int64\n",
       "Percent_income    float64\n",
       "Default            object\n",
       "Cred_length         int64\n",
       "dtype: object"
      ]
     },
     "metadata": {},
     "output_type": "display_data"
    }
   ],
   "source": [
    "display(df.head(2))\n",
    "display(df.dtypes)"
   ]
  },
  {
   "cell_type": "code",
   "execution_count": 27,
   "metadata": {
    "id": "WXhXgu29lop3"
   },
   "outputs": [
    {
     "data": {
      "text/html": [
       "<div>\n",
       "<style scoped>\n",
       "    .dataframe tbody tr th:only-of-type {\n",
       "        vertical-align: middle;\n",
       "    }\n",
       "\n",
       "    .dataframe tbody tr th {\n",
       "        vertical-align: top;\n",
       "    }\n",
       "\n",
       "    .dataframe thead th {\n",
       "        text-align: right;\n",
       "    }\n",
       "</style>\n",
       "<table border=\"1\" class=\"dataframe\">\n",
       "  <thead>\n",
       "    <tr style=\"text-align: right;\">\n",
       "      <th></th>\n",
       "      <th>Id</th>\n",
       "      <th>Age</th>\n",
       "      <th>Income</th>\n",
       "      <th>Home_status</th>\n",
       "      <th>Emp_length</th>\n",
       "      <th>Intent</th>\n",
       "      <th>Amount</th>\n",
       "      <th>Rate</th>\n",
       "      <th>Status</th>\n",
       "      <th>Percent_income</th>\n",
       "      <th>Default</th>\n",
       "      <th>Cred_length</th>\n",
       "    </tr>\n",
       "  </thead>\n",
       "  <tbody>\n",
       "    <tr>\n",
       "      <th>0</th>\n",
       "      <td>0</td>\n",
       "      <td>22</td>\n",
       "      <td>59000</td>\n",
       "      <td>RENT</td>\n",
       "      <td>123</td>\n",
       "      <td>PERSONAL</td>\n",
       "      <td>35000</td>\n",
       "      <td>16.02</td>\n",
       "      <td>True</td>\n",
       "      <td>0.59</td>\n",
       "      <td>Y</td>\n",
       "      <td>3</td>\n",
       "    </tr>\n",
       "    <tr>\n",
       "      <th>1</th>\n",
       "      <td>1</td>\n",
       "      <td>21</td>\n",
       "      <td>9600</td>\n",
       "      <td>OWN</td>\n",
       "      <td>5</td>\n",
       "      <td>EDUCATION</td>\n",
       "      <td>1000</td>\n",
       "      <td>11.14</td>\n",
       "      <td>False</td>\n",
       "      <td>0.10</td>\n",
       "      <td>N</td>\n",
       "      <td>2</td>\n",
       "    </tr>\n",
       "  </tbody>\n",
       "</table>\n",
       "</div>"
      ],
      "text/plain": [
       "   Id  Age  Income Home_status  Emp_length     Intent  Amount   Rate  Status  \\\n",
       "0   0   22   59000        RENT         123   PERSONAL   35000  16.02    True   \n",
       "1   1   21    9600         OWN           5  EDUCATION    1000  11.14   False   \n",
       "\n",
       "   Percent_income Default  Cred_length  \n",
       "0            0.59       Y            3  \n",
       "1            0.10       N            2  "
      ]
     },
     "metadata": {},
     "output_type": "display_data"
    },
    {
     "data": {
      "text/plain": [
       "Id                  int64\n",
       "Age                 int64\n",
       "Income              int64\n",
       "Home_status        object\n",
       "Emp_length          int64\n",
       "Intent             object\n",
       "Amount              int64\n",
       "Rate              float64\n",
       "Status               bool\n",
       "Percent_income    float64\n",
       "Default            object\n",
       "Cred_length         int64\n",
       "dtype: object"
      ]
     },
     "metadata": {},
     "output_type": "display_data"
    }
   ],
   "source": [
    "# Проверьте типы данных, при необходимости измените типы данных, чтобы они соответствовали действительности\n",
    "res_dict = {'Id': 'int64', 'Age': 'int64', 'Income': 'int64', 'Home_status': 'object', \n",
    "            'Emp_length': 'int64', 'Intent': 'object', 'Amount': 'int64', 'Rate': 'float64',\n",
    "            'Status': 'bool', 'Percent_income': 'float', 'Default': 'object', 'Cred_length': 'int64'}\n",
    "\n",
    "df = df.astype(res_dict)\n",
    "display(df.head(2))\n",
    "display(df.dtypes)"
   ]
  },
  {
   "cell_type": "markdown",
   "metadata": {
    "id": "DPDBNN4dlx7W"
   },
   "source": [
    "---\n",
    "\n",
    "**Обратите внимание, что во всех вариантах необходимо сделать приведение типов. Будьте готовы на защите аргументировать проверку типов (почему выполнены те или иные преобразования).**\n",
    "\n",
    "\n",
    " ---"
   ]
  },
  {
   "cell_type": "markdown",
   "metadata": {
    "id": "lzr0SgqlnmHy"
   },
   "source": [
    "### 6. Группировка данных"
   ]
  },
  {
   "cell_type": "markdown",
   "metadata": {
    "id": "QG_dbwzfmZoS"
   },
   "source": [
    "#### Задание 1"
   ]
  },
  {
   "cell_type": "markdown",
   "metadata": {
    "id": "CyCKTB4DmciW"
   },
   "source": [
    "*`Формулировка задания`*\n",
    " Группировка - статус домовладения (home) по количеству дефолтов\n",
    "(default)"
   ]
  },
  {
   "cell_type": "code",
   "execution_count": 14,
   "metadata": {
    "id": "tp8Bl1gumYlI"
   },
   "outputs": [
    {
     "data": {
      "text/plain": [
       "Home_status  Default\n",
       "MORTGAGE     N          107\n",
       "             Y           29\n",
       "OTHER        Y            2\n",
       "OWN          N           85\n",
       "             Y           13\n",
       "RENT         N          308\n",
       "             Y          106\n",
       "dtype: int64"
      ]
     },
     "execution_count": 14,
     "metadata": {},
     "output_type": "execute_result"
    }
   ],
   "source": [
    "# выполните группировку согласно варианту\n",
    "df.groupby(['Home_status', 'Default']).size()"
   ]
  },
  {
   "cell_type": "markdown",
   "metadata": {
    "id": "jLmhNuq0mms3"
   },
   "source": [
    "**`Сделайте вывод - интерпретацию - что можно увидеть из результата данной группировки?`**\n",
    "\n",
    "Можно сделать вывод о том, что наименьший процент дефолта кредита является ситуация, когда у потенциального клиента дом в сбоственности(13,3%).\n",
    "На втором месте являются потенциальные клиенты с ипотекой (21,3%) и самым рисковым является вариант съемной квартиры (25,5%)."
   ]
  },
  {
   "cell_type": "markdown",
   "metadata": {
    "id": "quMr70SmnMXS"
   },
   "source": [
    "---\n",
    "\n",
    "**Обратите внимание, что на защите вы должны ориентироваться в синтаксисе. При необходимости нужно быть готовым изменить код по просьбе преподавателя. Например, вместо среднего значения подсчитать медиану и т.д.**\n",
    "\n",
    "\n",
    " ---"
   ]
  },
  {
   "cell_type": "markdown",
   "metadata": {
    "id": "j0isGCzEne7a"
   },
   "source": [
    "#### Задание 2"
   ]
  },
  {
   "cell_type": "markdown",
   "metadata": {
    "id": "kE2vLBWbne7a"
   },
   "source": [
    "*`Формулировка задания`*\n",
    "\n",
    "Группировка - цель кредита (intent) по количеству статуса\n",
    "домовладения (home). Создать датафрейм. Переименовать столбец с количеством в “сount”. Отсортировать по убыванию столбца “count”."
   ]
  },
  {
   "cell_type": "code",
   "execution_count": 15,
   "metadata": {
    "id": "ttn78Zaene7a"
   },
   "outputs": [
    {
     "data": {
      "text/html": [
       "<div>\n",
       "<style scoped>\n",
       "    .dataframe tbody tr th:only-of-type {\n",
       "        vertical-align: middle;\n",
       "    }\n",
       "\n",
       "    .dataframe tbody tr th {\n",
       "        vertical-align: top;\n",
       "    }\n",
       "\n",
       "    .dataframe thead th {\n",
       "        text-align: right;\n",
       "    }\n",
       "</style>\n",
       "<table border=\"1\" class=\"dataframe\">\n",
       "  <thead>\n",
       "    <tr style=\"text-align: right;\">\n",
       "      <th></th>\n",
       "      <th>Intent</th>\n",
       "      <th>Home_status</th>\n",
       "      <th>count</th>\n",
       "    </tr>\n",
       "  </thead>\n",
       "  <tbody>\n",
       "    <tr>\n",
       "      <th>6</th>\n",
       "      <td>EDUCATION</td>\n",
       "      <td>RENT</td>\n",
       "      <td>94</td>\n",
       "    </tr>\n",
       "    <tr>\n",
       "      <th>2</th>\n",
       "      <td>DEBTCONSOLIDATION</td>\n",
       "      <td>RENT</td>\n",
       "      <td>72</td>\n",
       "    </tr>\n",
       "    <tr>\n",
       "      <th>12</th>\n",
       "      <td>MEDICAL</td>\n",
       "      <td>RENT</td>\n",
       "      <td>70</td>\n",
       "    </tr>\n",
       "    <tr>\n",
       "      <th>19</th>\n",
       "      <td>VENTURE</td>\n",
       "      <td>RENT</td>\n",
       "      <td>70</td>\n",
       "    </tr>\n",
       "    <tr>\n",
       "      <th>16</th>\n",
       "      <td>PERSONAL</td>\n",
       "      <td>RENT</td>\n",
       "      <td>69</td>\n",
       "    </tr>\n",
       "    <tr>\n",
       "      <th>9</th>\n",
       "      <td>HOMEIMPROVEMENT</td>\n",
       "      <td>RENT</td>\n",
       "      <td>39</td>\n",
       "    </tr>\n",
       "    <tr>\n",
       "      <th>3</th>\n",
       "      <td>EDUCATION</td>\n",
       "      <td>MORTGAGE</td>\n",
       "      <td>34</td>\n",
       "    </tr>\n",
       "    <tr>\n",
       "      <th>17</th>\n",
       "      <td>VENTURE</td>\n",
       "      <td>MORTGAGE</td>\n",
       "      <td>27</td>\n",
       "    </tr>\n",
       "    <tr>\n",
       "      <th>10</th>\n",
       "      <td>MEDICAL</td>\n",
       "      <td>MORTGAGE</td>\n",
       "      <td>22</td>\n",
       "    </tr>\n",
       "    <tr>\n",
       "      <th>15</th>\n",
       "      <td>PERSONAL</td>\n",
       "      <td>OWN</td>\n",
       "      <td>22</td>\n",
       "    </tr>\n",
       "    <tr>\n",
       "      <th>0</th>\n",
       "      <td>DEBTCONSOLIDATION</td>\n",
       "      <td>MORTGAGE</td>\n",
       "      <td>21</td>\n",
       "    </tr>\n",
       "    <tr>\n",
       "      <th>18</th>\n",
       "      <td>VENTURE</td>\n",
       "      <td>OWN</td>\n",
       "      <td>20</td>\n",
       "    </tr>\n",
       "    <tr>\n",
       "      <th>13</th>\n",
       "      <td>PERSONAL</td>\n",
       "      <td>MORTGAGE</td>\n",
       "      <td>19</td>\n",
       "    </tr>\n",
       "    <tr>\n",
       "      <th>5</th>\n",
       "      <td>EDUCATION</td>\n",
       "      <td>OWN</td>\n",
       "      <td>16</td>\n",
       "    </tr>\n",
       "    <tr>\n",
       "      <th>8</th>\n",
       "      <td>HOMEIMPROVEMENT</td>\n",
       "      <td>OWN</td>\n",
       "      <td>16</td>\n",
       "    </tr>\n",
       "    <tr>\n",
       "      <th>11</th>\n",
       "      <td>MEDICAL</td>\n",
       "      <td>OWN</td>\n",
       "      <td>15</td>\n",
       "    </tr>\n",
       "    <tr>\n",
       "      <th>7</th>\n",
       "      <td>HOMEIMPROVEMENT</td>\n",
       "      <td>MORTGAGE</td>\n",
       "      <td>13</td>\n",
       "    </tr>\n",
       "    <tr>\n",
       "      <th>1</th>\n",
       "      <td>DEBTCONSOLIDATION</td>\n",
       "      <td>OWN</td>\n",
       "      <td>9</td>\n",
       "    </tr>\n",
       "    <tr>\n",
       "      <th>4</th>\n",
       "      <td>EDUCATION</td>\n",
       "      <td>OTHER</td>\n",
       "      <td>1</td>\n",
       "    </tr>\n",
       "    <tr>\n",
       "      <th>14</th>\n",
       "      <td>PERSONAL</td>\n",
       "      <td>OTHER</td>\n",
       "      <td>1</td>\n",
       "    </tr>\n",
       "  </tbody>\n",
       "</table>\n",
       "</div>"
      ],
      "text/plain": [
       "               Intent Home_status  count\n",
       "6           EDUCATION        RENT     94\n",
       "2   DEBTCONSOLIDATION        RENT     72\n",
       "12            MEDICAL        RENT     70\n",
       "19            VENTURE        RENT     70\n",
       "16           PERSONAL        RENT     69\n",
       "9     HOMEIMPROVEMENT        RENT     39\n",
       "3           EDUCATION    MORTGAGE     34\n",
       "17            VENTURE    MORTGAGE     27\n",
       "10            MEDICAL    MORTGAGE     22\n",
       "15           PERSONAL         OWN     22\n",
       "0   DEBTCONSOLIDATION    MORTGAGE     21\n",
       "18            VENTURE         OWN     20\n",
       "13           PERSONAL    MORTGAGE     19\n",
       "5           EDUCATION         OWN     16\n",
       "8     HOMEIMPROVEMENT         OWN     16\n",
       "11            MEDICAL         OWN     15\n",
       "7     HOMEIMPROVEMENT    MORTGAGE     13\n",
       "1   DEBTCONSOLIDATION         OWN      9\n",
       "4           EDUCATION       OTHER      1\n",
       "14           PERSONAL       OTHER      1"
      ]
     },
     "execution_count": 15,
     "metadata": {},
     "output_type": "execute_result"
    }
   ],
   "source": [
    "# выполните группировку согласно варианту\n",
    "df.groupby(['Intent', 'Home_status']).size().reset_index(name='count').sort_values(by='count', ascending=False)"
   ]
  },
  {
   "cell_type": "markdown",
   "metadata": {
    "id": "HCyyeAu6ne7a"
   },
   "source": [
    "**`Сделайте вывод - интерпретацию - что можно увидеть из результата данной группировки?`**\n",
    "\n",
    "Образование является одной из самых главных причин для взятия кредита, Процент кредитов по этой отрасли максимален, если у человека\n",
    "съемное жилье или есть ипотека и находится в топ-3, если у клиента собственное жилище.\n",
    "Также стоит отметить, что консолидация всех задолженностей является очень распространенной причиной взятия кредита только у людей, которые\n",
    "арендуют квартиру."
   ]
  },
  {
   "cell_type": "markdown",
   "metadata": {
    "id": "NKLZ0m7Nne7b"
   },
   "source": [
    "---\n",
    "\n",
    "**Обратите внимание, что на защите вы должны ориентироваться в синтаксисе. При необходимости нужно быть готовым изменить код по просьбе преподавателя. Например, вместо среднего значения подсчитать медиану и т.д.**\n",
    "\n",
    "\n",
    " ---"
   ]
  },
  {
   "cell_type": "markdown",
   "metadata": {
    "id": "_3fHGp64nhUJ"
   },
   "source": [
    "#### Задание 3"
   ]
  },
  {
   "cell_type": "markdown",
   "metadata": {
    "id": "_Bc4ehyKnhUJ"
   },
   "source": [
    "*`Формулировка задания`*\n",
    "\n",
    "Сводная таблица (pivot_table) - средний доход income для каждого\n",
    "возраста. Отсортировать по убыванию. Округлить до двух знаков."
   ]
  },
  {
   "cell_type": "code",
   "execution_count": 28,
   "metadata": {
    "id": "siDovPvQnhUJ"
   },
   "outputs": [
    {
     "data": {
      "text/html": [
       "<div>\n",
       "<style scoped>\n",
       "    .dataframe tbody tr th:only-of-type {\n",
       "        vertical-align: middle;\n",
       "    }\n",
       "\n",
       "    .dataframe tbody tr th {\n",
       "        vertical-align: top;\n",
       "    }\n",
       "\n",
       "    .dataframe thead th {\n",
       "        text-align: right;\n",
       "    }\n",
       "</style>\n",
       "<table border=\"1\" class=\"dataframe\">\n",
       "  <thead>\n",
       "    <tr style=\"text-align: right;\">\n",
       "      <th></th>\n",
       "      <th>Income</th>\n",
       "    </tr>\n",
       "    <tr>\n",
       "      <th>Age</th>\n",
       "      <th></th>\n",
       "    </tr>\n",
       "  </thead>\n",
       "  <tbody>\n",
       "    <tr>\n",
       "      <th>144</th>\n",
       "      <td>225000.00</td>\n",
       "    </tr>\n",
       "    <tr>\n",
       "      <th>26</th>\n",
       "      <td>122793.74</td>\n",
       "    </tr>\n",
       "    <tr>\n",
       "      <th>25</th>\n",
       "      <td>106750.02</td>\n",
       "    </tr>\n",
       "    <tr>\n",
       "      <th>24</th>\n",
       "      <td>88684.03</td>\n",
       "    </tr>\n",
       "    <tr>\n",
       "      <th>23</th>\n",
       "      <td>85275.05</td>\n",
       "    </tr>\n",
       "    <tr>\n",
       "      <th>123</th>\n",
       "      <td>80004.00</td>\n",
       "    </tr>\n",
       "    <tr>\n",
       "      <th>22</th>\n",
       "      <td>64423.88</td>\n",
       "    </tr>\n",
       "    <tr>\n",
       "      <th>21</th>\n",
       "      <td>42238.58</td>\n",
       "    </tr>\n",
       "  </tbody>\n",
       "</table>\n",
       "</div>"
      ],
      "text/plain": [
       "        Income\n",
       "Age           \n",
       "144  225000.00\n",
       "26   122793.74\n",
       "25   106750.02\n",
       "24    88684.03\n",
       "23    85275.05\n",
       "123   80004.00\n",
       "22    64423.88\n",
       "21    42238.58"
      ]
     },
     "metadata": {},
     "output_type": "display_data"
    }
   ],
   "source": [
    "# выполните сводную таблицу согласно варианту\n",
    "income_for_age = df.pivot_table(index='Age', values='Income', aggfunc='mean').sort_values(by='Income', ascending=False).round(2)\n",
    "display(income_for_age)"
   ]
  },
  {
   "cell_type": "markdown",
   "metadata": {
    "id": "1-vw8iyUnhUK"
   },
   "source": [
    "**`Сделайте вывод - интерпретацию - что можно увидеть из результата данной сводной таблицы?`**\n",
    "\n",
    "Исходя из итоговых данных видно, что чем выше опыт юных клиентов (от 21 до 26 лет), тем выше его платежеспособность.\n",
    "Также видно возможную допущенную ошибку при заполнении данных (возраста 144 и 123 года). Рекомендуется уточнить актуальность данных,\n",
    "после чего принять решение: удалить и не учитывать данные либо написать корректные значения и заново сделать сводную таблицу."
   ]
  },
  {
   "cell_type": "markdown",
   "metadata": {
    "id": "wKFm0zDenhUK"
   },
   "source": [
    "---\n",
    "\n",
    "**Обратите внимание, что на защите вы должны ориентироваться в синтаксисе. При необходимости нужно быть готовым изменить код по просьбе преподавателя. Например, вместо среднего значения подсчитать медиану и т.д.**\n",
    "\n",
    "\n",
    " ---"
   ]
  },
  {
   "cell_type": "markdown",
   "metadata": {
    "id": "FOlw74xCniNo"
   },
   "source": [
    "#### Задание 4"
   ]
  },
  {
   "cell_type": "markdown",
   "metadata": {
    "id": "4tvYwT25niNq"
   },
   "source": [
    "*`Формулировка задания`*\n",
    "\n",
    "Сводная таблица (pivot_table) - средняя сумма кредита amount для\n",
    "каждой цели (intent) - строки и возраста - столбцы . Отсортировать по\n",
    "возрастанию intent. Округлить до двух знаков"
   ]
  },
  {
   "cell_type": "code",
   "execution_count": 33,
   "metadata": {
    "id": "TfJ719g6niNq"
   },
   "outputs": [
    {
     "data": {
      "text/html": [
       "<div>\n",
       "<style scoped>\n",
       "    .dataframe tbody tr th:only-of-type {\n",
       "        vertical-align: middle;\n",
       "    }\n",
       "\n",
       "    .dataframe tbody tr th {\n",
       "        vertical-align: top;\n",
       "    }\n",
       "\n",
       "    .dataframe thead th {\n",
       "        text-align: right;\n",
       "    }\n",
       "</style>\n",
       "<table border=\"1\" class=\"dataframe\">\n",
       "  <thead>\n",
       "    <tr style=\"text-align: right;\">\n",
       "      <th>Age</th>\n",
       "      <th>21</th>\n",
       "      <th>22</th>\n",
       "      <th>23</th>\n",
       "      <th>24</th>\n",
       "      <th>25</th>\n",
       "      <th>26</th>\n",
       "      <th>123</th>\n",
       "      <th>144</th>\n",
       "      <th>sum</th>\n",
       "    </tr>\n",
       "    <tr>\n",
       "      <th>Intent</th>\n",
       "      <th></th>\n",
       "      <th></th>\n",
       "      <th></th>\n",
       "      <th></th>\n",
       "      <th></th>\n",
       "      <th></th>\n",
       "      <th></th>\n",
       "      <th></th>\n",
       "      <th></th>\n",
       "    </tr>\n",
       "  </thead>\n",
       "  <tbody>\n",
       "    <tr>\n",
       "      <th>DEBTCONSOLIDATION</th>\n",
       "      <td>9500.00</td>\n",
       "      <td>18602.78</td>\n",
       "      <td>20275.00</td>\n",
       "      <td>20028.57</td>\n",
       "      <td>18603.33</td>\n",
       "      <td>21947.22</td>\n",
       "      <td>NaN</td>\n",
       "      <td>NaN</td>\n",
       "      <td>108956.90</td>\n",
       "    </tr>\n",
       "    <tr>\n",
       "      <th>EDUCATION</th>\n",
       "      <td>12846.15</td>\n",
       "      <td>18677.34</td>\n",
       "      <td>20288.28</td>\n",
       "      <td>21052.38</td>\n",
       "      <td>19326.04</td>\n",
       "      <td>20566.67</td>\n",
       "      <td>20400.0</td>\n",
       "      <td>6000.0</td>\n",
       "      <td>139156.86</td>\n",
       "    </tr>\n",
       "    <tr>\n",
       "      <th>HOMEIMPROVEMENT</th>\n",
       "      <td>4355.00</td>\n",
       "      <td>10216.67</td>\n",
       "      <td>4000.00</td>\n",
       "      <td>19627.68</td>\n",
       "      <td>21266.67</td>\n",
       "      <td>20038.46</td>\n",
       "      <td>NaN</td>\n",
       "      <td>NaN</td>\n",
       "      <td>79504.48</td>\n",
       "    </tr>\n",
       "    <tr>\n",
       "      <th>MEDICAL</th>\n",
       "      <td>10700.00</td>\n",
       "      <td>18073.21</td>\n",
       "      <td>17968.48</td>\n",
       "      <td>21119.64</td>\n",
       "      <td>18114.81</td>\n",
       "      <td>20410.00</td>\n",
       "      <td>NaN</td>\n",
       "      <td>NaN</td>\n",
       "      <td>106386.14</td>\n",
       "    </tr>\n",
       "    <tr>\n",
       "      <th>PERSONAL</th>\n",
       "      <td>3633.33</td>\n",
       "      <td>17735.71</td>\n",
       "      <td>19241.00</td>\n",
       "      <td>21205.00</td>\n",
       "      <td>21738.00</td>\n",
       "      <td>18588.24</td>\n",
       "      <td>NaN</td>\n",
       "      <td>NaN</td>\n",
       "      <td>102141.28</td>\n",
       "    </tr>\n",
       "    <tr>\n",
       "      <th>VENTURE</th>\n",
       "      <td>9407.69</td>\n",
       "      <td>15515.28</td>\n",
       "      <td>22810.94</td>\n",
       "      <td>19406.73</td>\n",
       "      <td>18360.42</td>\n",
       "      <td>18850.00</td>\n",
       "      <td>NaN</td>\n",
       "      <td>4800.0</td>\n",
       "      <td>109151.06</td>\n",
       "    </tr>\n",
       "  </tbody>\n",
       "</table>\n",
       "</div>"
      ],
      "text/plain": [
       "Age                      21        22        23        24        25        26  \\\n",
       "Intent                                                                          \n",
       "DEBTCONSOLIDATION   9500.00  18602.78  20275.00  20028.57  18603.33  21947.22   \n",
       "EDUCATION          12846.15  18677.34  20288.28  21052.38  19326.04  20566.67   \n",
       "HOMEIMPROVEMENT     4355.00  10216.67   4000.00  19627.68  21266.67  20038.46   \n",
       "MEDICAL            10700.00  18073.21  17968.48  21119.64  18114.81  20410.00   \n",
       "PERSONAL            3633.33  17735.71  19241.00  21205.00  21738.00  18588.24   \n",
       "VENTURE             9407.69  15515.28  22810.94  19406.73  18360.42  18850.00   \n",
       "\n",
       "Age                    123     144        sum  \n",
       "Intent                                         \n",
       "DEBTCONSOLIDATION      NaN     NaN  108956.90  \n",
       "EDUCATION          20400.0  6000.0  139156.86  \n",
       "HOMEIMPROVEMENT        NaN     NaN   79504.48  \n",
       "MEDICAL                NaN     NaN  106386.14  \n",
       "PERSONAL               NaN     NaN  102141.28  \n",
       "VENTURE                NaN  4800.0  109151.06  "
      ]
     },
     "metadata": {},
     "output_type": "display_data"
    }
   ],
   "source": [
    "# выполните сводную таблицу согласно варианту\n",
    "mean_amount = df.pivot_table(index='Intent', columns='Age', values='Amount').sort_values(by='Intent', ascending=True).round(2)\n",
    "mean_amount['sum'] = mean_amount.sum(axis=1)\n",
    "display(mean_amount)"
   ]
  },
  {
   "cell_type": "markdown",
   "metadata": {
    "id": "yqJqvk5qniNr"
   },
   "source": [
    "**`Сделайте вывод - интерпретацию - что можно увидеть из результата выполнения данного кода?`**\n",
    "\n",
    "Для наглядности была добавлена колонка Суммы по строкам. Образование остается самой востребованной целью для оформление кредита,\n",
    "при чем несмотря на внушительную часть \"сомнительных\" данных (возраст 123 и 144 года), которые составляют почти 19% от общей суммы.\n",
    "Самым же недорогой целью является улучшение жилищных условий. Оно остается самым низким вплоть до 24 лет, после чего ни разу не будет находится на последнем месте. Это говорит о том, что по мере взросления человек хочет все больше и больше вкладывать в обустройства своего жилища. Этот тренд должен продолжиться и далее."
   ]
  },
  {
   "cell_type": "markdown",
   "metadata": {
    "id": "tIkuqJKUniNs"
   },
   "source": [
    "---\n",
    "\n",
    "**Обратите внимание, что на защите вы должны ориентироваться в синтаксисе. При необходимости нужно быть готовым изменить код по просьбе преподавателя. Например, вместо среднего значения подсчитать медиану и т.д.**\n",
    "\n",
    "\n",
    " ---"
   ]
  },
  {
   "cell_type": "markdown",
   "metadata": {
    "id": "TpnXb6gip3S8"
   },
   "source": [
    "### Вывод"
   ]
  },
  {
   "cell_type": "markdown",
   "metadata": {
    "id": "TpnXb6gip3S8"
   },
   "source": [
    "В ходе выполнения лабораторной работы был проведён предварительный анализ и обработка набора данных credit_risk.csv, содержащего информацию о кредитных заявках. Набор данных включал такие атрибуты, как возраст заёмщика, уровень дохода, цель кредита, статус владения жильем, процент дохода, выделяемый на выплаты, а также факт наличия дефолта.\n",
    "Была выполнена следующая последовательность обработки данных:\n",
    "1. Первичный обзор структуры данных с использованием методов head(), info() и describe(), что позволило оценить общий объём данных, наличие пропусков и распределение значений.\n",
    "2. Корректировка названий столбцов для улучшения читаемости (например, столбец Home был переименован в Home_status).\n",
    "3. Заполнение пропусков: обнаружены и заполнены пропущенные значения в столбцах Emp_length и Rate.\n",
    "4. Удаление дубликатов: выявлены и удалены как явные, так и неявные дубликаты, в том числе вызванные разным написанием категориальных значений.\n",
    "5. Корректировка типов данных: приведены к целочисленному типу столбцы Age и Emp_length, а также преобразован столбец Status в булевый тип.\n",
    "На этапе аналитической группировки данных были выявлены содержательные закономерности:\n",
    "\n",
    "•\tНаименьший уровень дефолта наблюдается среди клиентов, владеющих жильём (13,3%), тогда как арендаторы демонстрируют наибольшие риски (25,5%).\n",
    "\n",
    "•\tОсновной целью получения кредита является образование, особенно среди арендаторов и лиц с ипотекой.\n",
    "\n",
    "•\tОбнаружены аномалии в данных (возрастные значения 123 и 144 года), которые могут указывать на ошибки ввода и требуют дополнительной проверки.\n",
    "\n",
    "•\tНаибольшие средние суммы кредитов приходятся на образовательные цели, тогда как наименьшие — на улучшение жилищных условий, особенно среди молодых заёмщиков.\n",
    "\n",
    "Проведённая работа позволила не только очистить и структурировать исходные данные, но и выявить ключевые факторы, влияющие на кредитные риски и поведение заёмщиков. Полученные результаты могут быть использованы для построения прогнозных моделей и поддержки принятия решений в области кредитного скоринга.\n"
   ]
  },
  {
   "cell_type": "markdown",
   "metadata": {
    "id": "Sn3y7og_vjGG"
   },
   "source": [
    "### Дополнительное задание"
   ]
  },
  {
   "cell_type": "markdown",
   "metadata": {
    "id": "rR6WgHXYvlqD"
   },
   "source": [
    "**`Подробная формулировка задания`**"
   ]
  },
  {
   "cell_type": "code",
   "execution_count": 18,
   "metadata": {
    "id": "wG5TGQpevlBq"
   },
   "outputs": [],
   "source": [
    "# код выполнения задания"
   ]
  },
  {
   "cell_type": "markdown",
   "metadata": {
    "id": "y-qpTuhTvon3"
   },
   "source": [
    "***`Подробный вывод по заданию, описание полученных результатов`***"
   ]
  }
 ],
 "metadata": {
  "colab": {
   "provenance": []
  },
  "kernelspec": {
   "display_name": "Python 3 (ipykernel)",
   "language": "python",
   "name": "python3"
  },
  "language_info": {
   "codemirror_mode": {
    "name": "ipython",
    "version": 3
   },
   "file_extension": ".py",
   "mimetype": "text/x-python",
   "name": "python",
   "nbconvert_exporter": "python",
   "pygments_lexer": "ipython3",
   "version": "3.9.13"
  }
 },
 "nbformat": 4,
 "nbformat_minor": 4
}
